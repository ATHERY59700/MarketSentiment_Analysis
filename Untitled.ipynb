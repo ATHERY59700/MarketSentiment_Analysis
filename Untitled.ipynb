{
 "cells": [
  {
   "cell_type": "code",
   "execution_count": null,
   "metadata": {},
   "outputs": [],
   "source": [
    "# Create an empty list which will contain the selected news articles \n",
    "List_of_links = [] \n",
    "word1=\"article\"\n",
    "\n",
    "for newsurl in url_list:\n",
    "    response = get(newsurl, headers = headers)\n",
    "    #pause loop\n",
    "    sleep(randint(1,3))\n",
    "    #Monitor the requests\n",
    "    requests += 1\n",
    "    elapsed_time = time() - start_time\n",
    "    print('Request:{}; Frequency: {} requests/s'.format(requests, requests/elapsed_time))\n",
    "    clear_output(wait = True)\n",
    "    \n",
    "    # Throw a warning for non-200 status codes\n",
    "    if response.status_code != 200:\n",
    "        warn('Request: {}; Status code: {}'.format(requests, response.status_code))\n",
    "    \n",
    "    # Parse the content of the request with BeautifulSoup\n",
    "    #page_html = BeautifulSoup(response.text, 'html.parser')\n",
    "    html_soup = BeautifulSoup(response.text, 'html.parser')\n",
    "    sub_links = html_soup.find_all('a')\n",
    "    for links in sub_links:\n",
    "        sp = BeautifulSoup(str(links),'html.parser')  # first convert into a string\n",
    "        tag = sp.a\n",
    "      #if word1 in tag['title'] or word2 in tag['title'] or word3 in tag['title']:\n",
    "        if word1 in tag['href']:\n",
    "            category_links =  Base_url + tag[\"href\"]\n",
    "            List_of_links.append(category_links)\n",
    "            "
   ]
  }
 ],
 "metadata": {
  "kernelspec": {
   "display_name": "Python 3",
   "language": "python",
   "name": "python3"
  },
  "language_info": {
   "codemirror_mode": {
    "name": "ipython",
    "version": 3
   },
   "file_extension": ".py",
   "mimetype": "text/x-python",
   "name": "python",
   "nbconvert_exporter": "python",
   "pygments_lexer": "ipython3",
   "version": "3.6.5"
  }
 },
 "nbformat": 4,
 "nbformat_minor": 2
}
