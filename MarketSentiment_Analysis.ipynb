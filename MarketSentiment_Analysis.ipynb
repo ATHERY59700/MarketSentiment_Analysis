{
 "cells": [
  {
   "cell_type": "code",
   "execution_count": 1,
   "metadata": {
    "collapsed": false,
    "deletable": true,
    "editable": true
   },
   "outputs": [
    {
     "name": "stdout",
     "output_type": "stream",
     "text": [
      "['https://www.moneycontrol.com/company-article/glenmarkpharma/news/GP08#GP08', 'https://www.moneycontrol.com/company-article/cadilahealthcare/news/CHC#CHC', 'https://www.moneycontrol.com/company-article/lupinlaboratories/news/LL#LL', 'https://www.moneycontrol.com/company-article/drreddyslaboratories/news/DRL#DRL', 'https://www.moneycontrol.com/company-article/piramalenterprises/news/PH05#PH05', 'https://www.moneycontrol.com/company-article/cipla/news/C#C', 'https://www.moneycontrol.com/company-article/divislaboratories/news/DL03#DL03', 'https://www.moneycontrol.com/company-article/glaxosmithklinepharmaceuticals/news/GSK#GSK', 'https://www.moneycontrol.com/company-article/sunpharmaceuticalindustries/news/SPI#SPI', 'https://www.moneycontrol.com/company-article/aurobindopharma/news/AP#AP']\n"
     ]
    }
   ],
   "source": [
    "    \n",
    "import csv\n",
    "import time\n",
    "import requests\n",
    "from bs4 import BeautifulSoup\n",
    "#from pattern import ngrams\n",
    "\n",
    "Base_url = \"http://www.moneycontrol.com\"\n",
    "\n",
    "# Build a dictionary of companies and their abbreviated names \n",
    "companies = {'cadilahealthcare':'CHC','piramalenterprises':'PH05',\n",
    "             'glenmarkpharma':'GP08','glaxosmithklinepharmaceuticals':'GSK',\n",
    "             'sunpharmaceuticalindustries':'SPI','lupinlaboratories':'LL',\n",
    "             'cipla':'C','aurobindopharma':'AP',\n",
    "             'drreddyslaboratories':'DRL','divislaboratories':'DL03'}\n",
    "             \n",
    "# Create a list of the news section urls of the respective companies \n",
    "#url_list = ['https://www.moneycontrol.com/company-article/{}/news/{}#{}'.format(k,v,v) for k,v in companies.iteritems()]\n",
    "\n",
    "url_list = ['https://www.moneycontrol.com/company-article/{}/news/{}#{}'.format(k,v,v) for k,v in companies.items()]\n",
    "\n",
    "print(url_list)"
   ]
  },
  {
   "cell_type": "code",
   "execution_count": null,
   "metadata": {
    "collapsed": true,
    "deletable": true,
    "editable": true
   },
   "outputs": [],
   "source": [
    "# Create an empty list which will contain the selected news articles \n",
    "List_of_links = []   \n",
    "\n",
    "# Extract the relevant news articles weblinks from the news section of selected companies\n",
    "for urls in url_list:\n",
    "   html = requests.get(urls)\n",
    "   soup = BeautifulSoup(html.text,'html.parser') # Create a BeautifulSoup object \n",
    "\n",
    "   # Retrieve a list of all the links and the titles for the respective links\n",
    "   word1,word2,word3 = \"US\",\"USA\",\"USFDA\"\n",
    " \n",
    "   sub_links = soup.find_all('a', class_='arial11_summ')\n",
    "   for links in sub_links:\n",
    "      sp = BeautifulSoup(str(links),'html.parser')  # first convert into a string\n",
    "      tag = sp.a\n",
    "      if word1 in tag['title'] or word2 in tag['title'] or word3 in tag['title']:\n",
    "          category_links = Base_url + tag[\"href\"]\n",
    "          List_of_links.append(category_links)\n",
    "          time.sleep(3)"
   ]
  },
  {
   "cell_type": "code",
   "execution_count": null,
   "metadata": {
    "collapsed": false,
    "deletable": true,
    "editable": true
   },
   "outputs": [],
   "source": [
    "# Remove the duplicate news articles based on News Title\n",
    "unique_links = list(set(List_of_links))\n",
    "for q in unique_links: print(q)\n",
    "\n",
    "# Create a dictionary of positive/negative words related to the Pharma Sector\n",
    "reader = csv.reader(open('dict.csv', 'r'))\n",
    "pharma_dict = dict((rows[0],rows[1]) for rows in reader)\n",
    "\n",
    "# Creating an empty list which will be filled later with news article links, and Polarity values (pos/neg)\n",
    "df =[]\n",
    "\n",
    "print(df)"
   ]
  },
  {
   "cell_type": "code",
   "execution_count": null,
   "metadata": {
    "collapsed": false,
    "deletable": true,
    "editable": true
   },
   "outputs": [],
   "source": [
    "# Open the choosen news articles and extract the main text  \n",
    "for selected_links in unique_links:\n",
    "    results_url = selected_links \n",
    "   #print results_url\n",
    "   \n",
    "\n",
    "    results = requests.get(results_url)\n",
    "    results_text = BeautifulSoup(results.text)\n",
    "    extract_text = results_text.find(class_='article_box')\n",
    "    final_text = extract_text.get_text()\n",
    "    \n",
    "#try:\n",
    "#    final_text = extract_text.get_text()\n",
    "#except Exception as a:\n",
    "    #final_text =''\n",
    " #   final_text.append('')\n",
    "   # pass\n",
    "            "
   ]
  },
  {
   "cell_type": "code",
   "execution_count": null,
   "metadata": {
    "collapsed": false,
    "deletable": true,
    "editable": true
   },
   "outputs": [],
   "source": [
    "final_text"
   ]
  },
  {
   "cell_type": "code",
   "execution_count": null,
   "metadata": {
    "collapsed": true,
    "deletable": true,
    "editable": true
   },
   "outputs": [],
   "source": []
  }
 ],
 "metadata": {
  "kernelspec": {
   "display_name": "Python 3",
   "language": "python",
   "name": "python3"
  },
  "language_info": {
   "codemirror_mode": {
    "name": "ipython",
    "version": 3
   },
   "file_extension": ".py",
   "mimetype": "text/x-python",
   "name": "python",
   "nbconvert_exporter": "python",
   "pygments_lexer": "ipython3",
   "version": "3.5.2"
  }
 },
 "nbformat": 4,
 "nbformat_minor": 2
}
